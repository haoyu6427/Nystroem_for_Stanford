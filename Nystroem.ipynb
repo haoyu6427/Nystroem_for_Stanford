{
 "cells": [
  {
   "cell_type": "code",
   "execution_count": 6,
   "metadata": {},
   "outputs": [
    {
     "name": "stdout",
     "output_type": "stream",
     "text": [
      "(1617, 64) (1617,) (1617, 64) (1617, 300)\n"
     ]
    },
    {
     "data": {
      "text/plain": [
       "0.9987631416202845"
      ]
     },
     "execution_count": 6,
     "metadata": {},
     "output_type": "execute_result"
    }
   ],
   "source": [
    "from sklearn import datasets, svm\n",
    "from sklearn.kernel_approximation import Nystroem\n",
    "X, y = datasets.load_digits(n_class=9, return_X_y=True)\n",
    "data = X / 16.\n",
    "\n",
    "clf = svm.LinearSVC()\n",
    "feature_map_nystroem = Nystroem(gamma=.2,\n",
    "                                random_state=1,\n",
    "                                 n_components=100)\n",
    "data_transformed = feature_map_nystroem.fit_transform(data)\n",
    "print(X.shape, y.shape, data.shape, data_transformed.shape)\n",
    "clf.fit(data_transformed, y)\n",
    "#LinearSVC()\n",
    "clf.score(data_transformed, y)\n",
    "#0.9987..."
   ]
  },
  {
   "cell_type": "code",
   "execution_count": 14,
   "metadata": {},
   "outputs": [
    {
     "name": "stdout",
     "output_type": "stream",
     "text": [
      "(1889, 3)\n"
     ]
    }
   ],
   "source": [
    "import numpy as np\n",
    "import open3d as o3d\n",
    "\n",
    "pcd = o3d.io.read_point_cloud(\"bunny/reconstruction/bun_zipper_res3.ply\")\n",
    "\n",
    "#可视化一下\n",
    "a = np.asarray(pcd.points)\n",
    "print(a.shape)\n",
    "o3d.visualization.draw_geometries([pcd])"
   ]
  },
  {
   "cell_type": "code",
   "execution_count": 26,
   "metadata": {},
   "outputs": [
    {
     "name": "stdout",
     "output_type": "stream",
     "text": [
      "(1889, 100) [-0.0369122   0.127512    0.00276757] [0.09101236 0.10032435 0.09410005 0.09817731 0.11355023 0.09687075\n",
      " 0.10969289 0.09439505 0.08791223 0.10330212 0.0915001  0.10506662\n",
      " 0.09097962 0.09791869 0.10244033 0.10451096 0.10773614 0.09457278\n",
      " 0.09501578 0.09099478 0.09455257 0.10644707 0.08736086 0.08941104\n",
      " 0.1028616  0.09664896 0.0964698  0.11014771 0.10866219 0.09428864\n",
      " 0.08993835 0.10257655 0.09352349 0.09921142 0.10731006 0.09026079\n",
      " 0.09074563 0.10780502 0.1085453  0.11360117 0.09016636 0.09771034\n",
      " 0.09017317 0.10233372 0.09084631 0.10179649 0.11394626 0.1036245\n",
      " 0.10089245 0.10234797 0.10004114 0.11709523 0.09528818 0.11097857\n",
      " 0.09177786 0.09395846 0.10190394 0.1124375  0.11671302 0.10819435\n",
      " 0.09860786 0.089516   0.09681789 0.10305711 0.08871179 0.09152016\n",
      " 0.09359065 0.09555932 0.11356902 0.09501142 0.11663003 0.09434388\n",
      " 0.09414021 0.10265015 0.10972842 0.09098334 0.10090641 0.09796144\n",
      " 0.09643291 0.11401834 0.10912916 0.08724445 0.11450774 0.09109523\n",
      " 0.09882178 0.10714884 0.0985759  0.09865597 0.09152911 0.09170004\n",
      " 0.10400809 0.10257727 0.09061949 0.08977792 0.10865372 0.0992055\n",
      " 0.10838313 0.10434214 0.0957412  0.08979418]\n",
      "(1889, 3)\n"
     ]
    }
   ],
   "source": [
    "#clf = svm.LinearSVC()\n",
    "import random\n",
    "feature_map_nystroem = Nystroem(gamma=2,\n",
    "                                random_state=1,\n",
    "                                 n_components=100)\n",
    "data_transformed = feature_map_nystroem.fit_transform(a)\n",
    "print(data_transformed.shape, a[0, :], data_transformed[0,:])\n",
    "random.shuffle(data_transformed)\n",
    "out = a + data_transformed[:,:3]\n",
    "pcd3 = o3d.geometry.PointCloud()\n",
    "print(out.shape)\n",
    "pcd3.points = o3d.utility.Vector3dVector(out)\n",
    "o3d.visualization.draw_geometries([pcd3])"
   ]
  },
  {
   "cell_type": "code",
   "execution_count": 18,
   "metadata": {},
   "outputs": [],
   "source": [
    "def create_output(vertices, colors, filename):\n",
    "    colors = colors.reshape(-1, 3)\n",
    "    vertices = np.hstack([vertices.reshape(-1, 3), colors])\n",
    "    np.savetxt(filename, vertices, fmt='%f %f %f %d %d %d')\n",
    "    ply_header = '''ply\n",
    "        format ascii 1.0\n",
    "        element vertex %(vert_num)d\n",
    "        property float x\n",
    "        property float y\n",
    "        property float z\n",
    "        property uchar red\n",
    "        property uchar green\n",
    "        property uchar blue\n",
    "        end_header\n",
    "        \\n'''\n",
    "    with open(filename, 'r+') as f:\n",
    "        old = f.read()\n",
    "        f.seek(0)\n",
    "        f.write(ply_header % dict(vert_num=len(vertices)))\n",
    "        f.write(old)"
   ]
  },
  {
   "cell_type": "code",
   "execution_count": 39,
   "metadata": {},
   "outputs": [
    {
     "name": "stdout",
     "output_type": "stream",
     "text": [
      "5.579483388032478\n",
      "6.509284817414474\n",
      "12.562368285236978\n",
      "18.491010128234496\n",
      "10.867725950201809\n",
      "11.064485881092876\n",
      "15.74387663476329\n",
      "19.87360395309149\n",
      "13.520162567820073\n",
      "16.78995341690495\n",
      "4.576064832518243\n",
      "5.286161905910362\n",
      "8.896737629754687\n",
      "12.146445186704518\n",
      "9.629726996249968\n",
      "17.33977363256655\n",
      "19.122044683427998\n",
      "2.327427919762291\n",
      "2.290873776268289\n",
      "3.1098850600249044\n"
     ]
    }
   ],
   "source": [
    "import random\n",
    "for i in range(20):\n",
    "    feature_map_nystroem = Nystroem(gamma=2,\n",
    "                                     n_components=100)\n",
    "    data_transformed = feature_map_nystroem.fit_transform(a)[:,10:100]\n",
    "    #print(a[:2, :3])\n",
    "    #print(data_transformed[:2, :5])\n",
    "    l = random.uniform(10.0,100.0)\n",
    "    l = l*0.2\n",
    "    print(l)\n",
    "    random.shuffle(data_transformed)\n",
    "    out = a + data_transformed[:,:3]/l\n",
    "    output_file = 'bunny_def/'+str(i)+'.ply'\n",
    "    NUM_POINT = 1889\n",
    "    one = np.ones((NUM_POINT,1))*255\n",
    "    zero = np.zeros((NUM_POINT,1))\n",
    "    red = np.concatenate((one,zero,zero),1)\n",
    "    green = np.concatenate((zero,one,zero),1)\n",
    "    blue = np.concatenate((zero,zero,one),1)\n",
    "    if(i%3==0):\n",
    "        color = red\n",
    "    if(i%3==1):\n",
    "        color = green\n",
    "    if(i%3==2):\n",
    "        color = blue\n",
    "    if(i==0):\n",
    "        inputs= a\n",
    "    else:\n",
    "        inputs = out\n",
    "    #print(color.shape)\n",
    "    #print(inputs.shape)\n",
    "    create_output(inputs, color, output_file)\n",
    "    #pcd3 = o3d.geometry.PointCloud()\n",
    "    #print(out.shape)\n",
    "    #pcd3.points = o3d.utility.Vector3dVector(out)\n",
    "    #o3d.visualization.draw_geometries([pcd3])"
   ]
  },
  {
   "cell_type": "code",
   "execution_count": null,
   "metadata": {},
   "outputs": [],
   "source": []
  }
 ],
 "metadata": {
  "kernelspec": {
   "display_name": "Python 3",
   "language": "python",
   "name": "python3"
  },
  "language_info": {
   "codemirror_mode": {
    "name": "ipython",
    "version": 3
   },
   "file_extension": ".py",
   "mimetype": "text/x-python",
   "name": "python",
   "nbconvert_exporter": "python",
   "pygments_lexer": "ipython3",
   "version": "3.7.6"
  }
 },
 "nbformat": 4,
 "nbformat_minor": 4
}
